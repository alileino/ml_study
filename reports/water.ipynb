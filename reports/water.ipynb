{
 "cells": [
  {
   "cell_type": "markdown",
   "metadata": {
    "collapsed": true
   },
   "source": [
    "# Data set\n",
    "The task for this project is to do metal ion prediction using the provided data set. The data set has 3 explaining features Mod1, Mod2 and Mod3 and 3 objective values Pb, Cd and c_total. The latter is the sum of the first two. There are 201 training examples. For each objective triplet there are 3 measurements, so every 3 subsequent training examples have the same objective values. Low concentration samples (few ions) are overly represented, and high concentration samples are not. \n",
    "\n",
    "In the following pairwise matrix scatterplot c-total and the modulator features are shown. The colors represent different c-total values, and they are not binned in any way. The plot shows no clear linear dependencies between c-total and the modulators. The modulators themselves show some linear dependence.\n",
    "\n",
    "![](img/scatters_manual.png)"
   ]
  },
  {
   "cell_type": "markdown",
   "metadata": {},
   "source": [
    "# Results\n",
    "Leave-1-out cross-validation leads to perfect prediction on this data set. This is because every triplet of the objective values is repeated 3 times, and the modulators don't have much variation for the same sample. This shows that the error of the modulators is small enough that it itself is not enough to cause prediction errors which affect the c-index. Here is the resulting plot, with small randomness added to the plot so that one can clearly see all c-index values are exactly 1.\n",
    "![](img/water_cindex_plots1.png)\n"
   ]
  },
  {
   "cell_type": "markdown",
   "metadata": {},
   "source": [
    "From the cindex plots, we can see that neighbor values that are multiples of 3 tend to be better. This is mostly due to the fact that the data was repeated 3 times for each training example. The neighbor value $k=6$ seems to be the best in this data set, although it is somewhat biased because of the structure of the data set. The predictions are much better than the baseline prediction (mean).\n",
    "\n",
    "![](img/water_cindex_plots3.png)\n"
   ]
  },
  {
   "cell_type": "markdown",
   "metadata": {},
   "source": [
    "After removing the mean plot and the value for $k=1$, we can see the plot more clearly. Still, $k=6$ seems to be the best value for k. However for production use, a larger value may be better if more measurements are made.\n",
    "![](img/water_cindex_plots32.png)\n"
   ]
  },
  {
   "cell_type": "markdown",
   "metadata": {},
   "source": [
    "\n",
    "# Implementation\n",
    "Cross-validation was already in the first weeks report, so not included here. It already supported Leave-X-out cross-validation, so no changes were made. The code for the older classes can be found at https://github.com/alileino/ml_study/, especially in the files measures/cv.py and models/knn.py. Also, the full code for this report can be found in the github page under analysis/water_ion.py.\n",
    "\n",
    "## Data preparation\n",
    "The modulators were z-score normalized. The output values were not.\n",
    "```python\n",
    "class WaterDataProvider:\n",
    "    objective_columns = [\"c_total\", \"Cd\", \"Pb\"]\n",
    "    def __init__(self):\n",
    "        self.X, self.Y, self.df = self.load_data()\n",
    "\n",
    "    def load_data(self):\n",
    "        df = pd.read_csv(\"../data/Water_data.csv\")\n",
    "        y = df[WaterDataProvider.objective_columns]\n",
    "\n",
    "        X = df.drop(WaterDataProvider.objective_columns, axis=1)\n",
    "        X = (X - X.mean())/(X.var())\n",
    "        return X, y, df\n",
    "```\n",
    " \n",
    "## Scatter plot\n",
    "The following scatter-function can be called for any of the objective names (Pb, Cd, c_total). It leaves the others out to get a smaller plot, because we are not interested in the relationships between the objective values.\n",
    " ```python\n",
    " def scatters(y):\n",
    "    data = WaterDataProvider()\n",
    "    objective = WaterDataProvider.objective_columns\n",
    "    objective.remove(y)\n",
    "    df = data.df.drop(objective, axis=1)\n",
    "    sns.set(style=\"ticks\")\n",
    "    sns.pairplot(df, hue=y, palette=\"hls\")\n",
    "    plt.show()\n",
    "```\n",
    "\n",
    "## C-index\n",
    "C-index was calculated with the method described in the slides. The division-by-zero error was fixed by returning 1 when the predictions are perfect.\n",
    "```python\n",
    "def c_index(truey, predy):\n",
    "    n = 0\n",
    "    h_sum = 0\n",
    "    for i in range(len(truey)):\n",
    "        t = truey[i]\n",
    "        p = predy[i]\n",
    "        for j in range(i+1, len(truey)):\n",
    "            nt = truey[j]\n",
    "            np = predy[j]\n",
    "            if t != nt:\n",
    "                n = n+1\n",
    "                if (p < np and t < nt) or (p > np and t > nt):\n",
    "                    h_sum += 1\n",
    "                elif (p < np and t > nt) or (p > np and t < nt):\n",
    "                    pass\n",
    "                elif p == np:\n",
    "                    h_sum += 0.5\n",
    "    if n != 0:\n",
    "        return h_sum/n\n",
    "    return 1\n",
    "```\n"
   ]
  },
  {
   "cell_type": "markdown",
   "metadata": {},
   "source": [
    "\n",
    "## C-index plots\n",
    "The following function plots a c-index plot for different neighbor values in the range [llim, hlim-1].\n",
    "\n",
    "```python\n",
    "def water_cindex_plots(leave_out, randomize=0, llim=1, hlim=15, show_mean=True):\n",
    "    '''\n",
    "    :param leave_out: how many consequtive samples to leave to test set in each K-fold\n",
    "    :param randomize: float describing the amount of randomness added to line plots\n",
    "    :param llim: the inclusive lower limit for neighbor count\n",
    "    :param hlim: the exxclusive higher limit for neighbor count\n",
    "    :param show_mean: True if the (baseline) mean c-index should be plotted\n",
    "    :return: None\n",
    "    '''\n",
    "    plt.figure()\n",
    "    data = WaterDataProvider()\n",
    "    X = data.X.values\n",
    "    Y = data.Y\n",
    "    neighbors = np.arange(llim, hlim)\n",
    "    for ycolumn in Y.columns:\n",
    "        y = Y[ycolumn].values\n",
    "        scores = []\n",
    "        for k in neighbors:\n",
    "            knn = KNN(n_neighbors=k, regression=True)\n",
    "\n",
    "            s = cv_score(knn, X, y, cv=KFold(n_splits=(len(X)//leave_out)), \n",
    "                score_func=c_index)\n",
    "            scores.append(np.mean(s) + np.random.rand()*randomize)\n",
    "\n",
    "        plt.plot(neighbors, scores, label=ycolumn)\n",
    "    if show_mean:\n",
    "        plt.plot(neighbors, np.repeat(0.5, len(neighbors)))\n",
    "    plt.suptitle(\"Leave-%i-Out CV c-index vs. neighbors\" % leave_out)\n",
    "    plt.ylabel(\"C-index\")\n",
    "    plt.legend()\n",
    "    plt.xticks(neighbors)\n",
    "    plt.xlabel(\"neighbors\")\n",
    "    savefig(\"water_cindex_plots%i%i\" % (leave_out, llim))\n",
    "    \n",
    "```"
   ]
  }
 ],
 "metadata": {
  "hide_input": false,
  "kernelspec": {
   "display_name": "Python 3",
   "language": "python",
   "name": "python3"
  },
  "language_info": {
   "codemirror_mode": {
    "name": "ipython",
    "version": 3
   },
   "file_extension": ".py",
   "mimetype": "text/x-python",
   "name": "python",
   "nbconvert_exporter": "python",
   "pygments_lexer": "ipython3",
   "version": "3.5.2"
  },
  "latex_metadata": {
   "author": "Ali Leino",
   "title": "Water metal ion prediction"
  }
 },
 "nbformat": 4,
 "nbformat_minor": 0
}
